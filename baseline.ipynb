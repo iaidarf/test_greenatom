{
 "cells": [
  {
   "cell_type": "markdown",
   "metadata": {},
   "source": [
    "# Загрузка библиотек"
   ]
  },
  {
   "cell_type": "code",
   "execution_count": 59,
   "metadata": {},
   "outputs": [],
   "source": [
    "import os\n",
    "import re\n",
    "import seaborn as sns\n",
    "from sklearn.feature_extraction.text import CountVectorizer\n",
    "from sklearn.linear_model import LogisticRegression\n",
    "from sklearn.metrics import accuracy_score, classification_report\n",
    "from sklearn.model_selection import train_test_split"
   ]
  },
  {
   "cell_type": "markdown",
   "metadata": {},
   "source": [
    "# Подготовка данных"
   ]
  },
  {
   "cell_type": "markdown",
   "metadata": {},
   "source": [
    "Объединим все отзывы (положительные и отрицательные) в единый файл. Один - для тренировочных данных, второй - для тестовых."
   ]
  },
  {
   "cell_type": "code",
   "execution_count": 8,
   "metadata": {},
   "outputs": [],
   "source": [
    "# пути к файлам с отзывами\n",
    "TRAIN_POS = 'data\\\\train\\\\pos'\n",
    "TRAIN_NEG = 'data\\\\train\\\\neg'\n",
    "TEST_POS = 'data\\\\test\\\\pos'\n",
    "TEST_NEG = 'data\\\\test\\\\neg'"
   ]
  },
  {
   "cell_type": "code",
   "execution_count": 9,
   "metadata": {},
   "outputs": [],
   "source": [
    "# функция проходит по папке и сохраняет пути к файлам\n",
    "def merge_reviews(path_pos, path_neg):\n",
    "    ls = []\n",
    "    \n",
    "    for root, dirs, files in os.walk(path_pos):\n",
    "        ls.extend([os.path.join(root,file) for file in files])    \n",
    "    \n",
    "    for root, dirs, files in os.walk(path_neg):\n",
    "        ls.extend([os.path.join(root,file) for file in files])       \n",
    "    \n",
    "    return ls"
   ]
  },
  {
   "cell_type": "code",
   "execution_count": 10,
   "metadata": {},
   "outputs": [],
   "source": [
    "# для обучения\n",
    "ls_train = merge_reviews(TRAIN_POS, TRAIN_NEG)\n",
    "# для теста\n",
    "ls_test = merge_reviews(TEST_POS, TEST_NEG)"
   ]
  },
  {
   "cell_type": "code",
   "execution_count": 11,
   "metadata": {},
   "outputs": [],
   "source": [
    "# для проверки (первые 12500 отзывов - положительные, вторые 12500 - отрицательные)"
   ]
  },
  {
   "cell_type": "code",
   "execution_count": 12,
   "metadata": {},
   "outputs": [
    {
     "data": {
      "text/plain": [
       "['data\\\\train\\\\pos\\\\0_9.txt',\n",
       " 'data\\\\train\\\\pos\\\\10000_8.txt',\n",
       " 'data\\\\train\\\\pos\\\\10001_10.txt',\n",
       " 'data\\\\train\\\\pos\\\\10002_7.txt',\n",
       " 'data\\\\train\\\\pos\\\\10003_8.txt']"
      ]
     },
     "execution_count": 12,
     "metadata": {},
     "output_type": "execute_result"
    }
   ],
   "source": [
    "ls_train[:5]"
   ]
  },
  {
   "cell_type": "code",
   "execution_count": 13,
   "metadata": {},
   "outputs": [
    {
     "data": {
      "text/plain": [
       "['data\\\\train\\\\neg\\\\9998_4.txt',\n",
       " 'data\\\\train\\\\neg\\\\9999_3.txt',\n",
       " 'data\\\\train\\\\neg\\\\999_3.txt',\n",
       " 'data\\\\train\\\\neg\\\\99_1.txt',\n",
       " 'data\\\\train\\\\neg\\\\9_1.txt']"
      ]
     },
     "execution_count": 13,
     "metadata": {},
     "output_type": "execute_result"
    }
   ],
   "source": [
    "ls_train[-5:]"
   ]
  },
  {
   "cell_type": "code",
   "execution_count": 14,
   "metadata": {},
   "outputs": [
    {
     "data": {
      "text/plain": [
       "25000"
      ]
     },
     "execution_count": 14,
     "metadata": {},
     "output_type": "execute_result"
    }
   ],
   "source": [
    "len(ls_train)"
   ]
  },
  {
   "cell_type": "code",
   "execution_count": 31,
   "metadata": {},
   "outputs": [],
   "source": [
    "# сохраним в виде файла\n",
    "\n",
    "# тренировочные данные\n",
    "with open('data\\\\train_data.txt','w') as f:\n",
    "    for file in ls_train: \n",
    "        s = open(file, errors=\"ignore\").read()\n",
    "        f.write(s)\n",
    "        f.write('\\n')\n",
    "        \n",
    "# тестовые данные \n",
    "with open('data\\\\test_data.txt','w') as f:\n",
    "    for file in ls_test: \n",
    "        s = open(file, errors=\"ignore\").read()\n",
    "        f.write(s)\n",
    "        f.write('\\n')"
   ]
  },
  {
   "cell_type": "code",
   "execution_count": 32,
   "metadata": {},
   "outputs": [],
   "source": [
    "# данные в виде списков\n",
    "\n",
    "reviews_train = []\n",
    "for line in open('data\\\\train_data.txt', 'r'):\n",
    "    reviews_train.append(line.strip())\n",
    "    \n",
    "reviews_test = []\n",
    "for line in open('data\\\\test_data.txt', 'r'):\n",
    "    reviews_test.append(line.strip())"
   ]
  },
  {
   "cell_type": "code",
   "execution_count": 33,
   "metadata": {},
   "outputs": [
    {
     "data": {
      "text/plain": [
       "'Bromwell High is a cartoon comedy. It ran at the same time as some other programs about school life, such as \"Teachers\". My 35 years in the teaching profession lead me to believe that Bromwell High\\'s satire is much closer to reality than is \"Teachers\". The scramble to survive financially, the insightful students who can see right through their pathetic teachers\\' pomp, the pettiness of the whole situation, all remind me of the schools I knew and their students. When I saw the episode in which a student repeatedly tried to burn down the school, I immediately recalled ......... at .......... High. A classic line: INSPECTOR: I\\'m here to sack one of your teachers. STUDENT: Welcome to Bromwell High. I expect that many adults of my age think that Bromwell High is far fetched. What a pity that it isn\\'t!'"
      ]
     },
     "execution_count": 33,
     "metadata": {},
     "output_type": "execute_result"
    }
   ],
   "source": [
    "reviews_train[0]"
   ]
  },
  {
   "cell_type": "code",
   "execution_count": 34,
   "metadata": {},
   "outputs": [
    {
     "data": {
      "text/plain": [
       "\"I went and saw this movie last night after being coaxed to by a few friends of mine. I'll admit that I was reluctant to see it because from what I knew of Ashton Kutcher he was only able to do comedy. I was wrong. Kutcher played the character of Jake Fischer very well, and Kevin Costner played Ben Randall with such professionalism. The sign of a good movie is that it can toy with our emotions. This one did exactly that. The entire theater (which was sold out) was overcome by laughter during the first half of the movie, and were moved to tears during the second half. While exiting the theater I not only saw many women in tears, but many full grown men as well, trying desperately not to let anyone see them crying. This movie was great, and I suggest that you go see it before you judge.\""
      ]
     },
     "execution_count": 34,
     "metadata": {},
     "output_type": "execute_result"
    }
   ],
   "source": [
    "reviews_test[0]"
   ]
  },
  {
   "cell_type": "markdown",
   "metadata": {},
   "source": [
    "# Baseline model"
   ]
  },
  {
   "cell_type": "markdown",
   "metadata": {},
   "source": [
    "## Подготовка данных"
   ]
  },
  {
   "cell_type": "markdown",
   "metadata": {},
   "source": [
    "Сделаем простую предварительную подготовку данных: удалим знаки препинания и сделаем все буквы строчными."
   ]
  },
  {
   "cell_type": "code",
   "execution_count": 35,
   "metadata": {},
   "outputs": [],
   "source": [
    "REPLACE_NO_SPACE = re.compile(\"[.;:!\\'?,\\\"()\\[\\]]\")\n",
    "REPLACE_WITH_SPACE = re.compile(\"(<br\\s*/><br\\s*/>)|(\\-)|(\\/)\")\n",
    "\n",
    "def preprocess_reviews(reviews):\n",
    "    reviews = [REPLACE_NO_SPACE.sub(\"\", line.lower()) for line in reviews]\n",
    "    reviews = [REPLACE_WITH_SPACE.sub(\" \", line) for line in reviews]\n",
    "    \n",
    "    return reviews\n",
    "\n",
    "reviews_train_clean = preprocess_reviews(reviews_train)\n",
    "reviews_test_clean = preprocess_reviews(reviews_test)"
   ]
  },
  {
   "cell_type": "code",
   "execution_count": 36,
   "metadata": {},
   "outputs": [
    {
     "data": {
      "text/plain": [
       "'Bromwell High is a cartoon comedy. It ran at the same time as some other programs about school life, such as \"Teachers\". My 35 years in the teaching profession lead me to believe that Bromwell High\\'s satire is much closer to reality than is \"Teachers\". The scramble to survive financially, the insightful students who can see right through their pathetic teachers\\' pomp, the pettiness of the whole situation, all remind me of the schools I knew and their students. When I saw the episode in which a student repeatedly tried to burn down the school, I immediately recalled ......... at .......... High. A classic line: INSPECTOR: I\\'m here to sack one of your teachers. STUDENT: Welcome to Bromwell High. I expect that many adults of my age think that Bromwell High is far fetched. What a pity that it isn\\'t!'"
      ]
     },
     "execution_count": 36,
     "metadata": {},
     "output_type": "execute_result"
    }
   ],
   "source": [
    "# было\n",
    "reviews_train[0]"
   ]
  },
  {
   "cell_type": "code",
   "execution_count": 37,
   "metadata": {},
   "outputs": [
    {
     "data": {
      "text/plain": [
       "'bromwell high is a cartoon comedy it ran at the same time as some other programs about school life such as teachers my 35 years in the teaching profession lead me to believe that bromwell highs satire is much closer to reality than is teachers the scramble to survive financially the insightful students who can see right through their pathetic teachers pomp the pettiness of the whole situation all remind me of the schools i knew and their students when i saw the episode in which a student repeatedly tried to burn down the school i immediately recalled  at  high a classic line inspector im here to sack one of your teachers student welcome to bromwell high i expect that many adults of my age think that bromwell high is far fetched what a pity that it isnt'"
      ]
     },
     "execution_count": 37,
     "metadata": {},
     "output_type": "execute_result"
    }
   ],
   "source": [
    "# стало\n",
    "reviews_train_clean[0]"
   ]
  },
  {
   "cell_type": "markdown",
   "metadata": {},
   "source": [
    "## Векторизация"
   ]
  },
  {
   "cell_type": "markdown",
   "metadata": {},
   "source": [
    "Полученные данные необходимо векторизовать. Самый простой способ - это CountVectorizer. В результате такой векторизации получим большую разреженную матрицу слов."
   ]
  },
  {
   "cell_type": "code",
   "execution_count": 38,
   "metadata": {},
   "outputs": [],
   "source": [
    "# создаем векторизатор\n",
    "cv = CountVectorizer(binary=True)\n",
    "# обучаем на трейн-данных\n",
    "cv.fit(reviews_train_clean)\n",
    "# векторизуем трейн и тест данные\n",
    "X = cv.transform(reviews_train_clean)\n",
    "X_test = cv.transform(reviews_test_clean)"
   ]
  },
  {
   "cell_type": "markdown",
   "metadata": {},
   "source": [
    "## Целевой признак"
   ]
  },
  {
   "cell_type": "markdown",
   "metadata": {},
   "source": [
    "У нас есть две задачи:\n",
    "\n",
    "1. Определение статуса комментария: положительный или отрицательный\n",
    "2. Определени рейтинга (от 1 до 10)"
   ]
  },
  {
   "cell_type": "markdown",
   "metadata": {},
   "source": [
    "### Статус комменатрия: положительный/отрицательный"
   ]
  },
  {
   "cell_type": "markdown",
   "metadata": {},
   "source": [
    "Признак бинарный: 1 - положительный отзыв, 0 - отрицательный отзыв"
   ]
  },
  {
   "cell_type": "code",
   "execution_count": 39,
   "metadata": {},
   "outputs": [
    {
     "name": "stdout",
     "output_type": "stream",
     "text": [
      "[1, 1, 1, 1]\n",
      "[1, 1, 0, 0]\n",
      "[0, 0, 0, 0]\n"
     ]
    }
   ],
   "source": [
    "# первые 12500 отзывов - положительные, вторые 12500 - отрицательные\n",
    "# подходит как и для трейн и тест данных\n",
    "target = [1 if i < 12500 else 0 for i in range(25000)]\n",
    "\n",
    "# для проверки\n",
    "print(target[:4])\n",
    "print(target[12498:12502])\n",
    "print(target[-4:])"
   ]
  },
  {
   "cell_type": "markdown",
   "metadata": {},
   "source": [
    "### Рейтинг (от 1 до 10)"
   ]
  },
  {
   "cell_type": "markdown",
   "metadata": {},
   "source": [
    "Признак многоклассовый. Считаем рейтинги из названий файлов."
   ]
  },
  {
   "cell_type": "code",
   "execution_count": 40,
   "metadata": {},
   "outputs": [],
   "source": [
    "rating = []\n",
    "for i in ls_train:\n",
    "    rating.append(int(re.findall(r'_\\d+', i)[0][1:]))"
   ]
  },
  {
   "cell_type": "code",
   "execution_count": 41,
   "metadata": {},
   "outputs": [],
   "source": [
    "# для проверки"
   ]
  },
  {
   "cell_type": "code",
   "execution_count": 42,
   "metadata": {},
   "outputs": [
    {
     "data": {
      "text/plain": [
       "[9, 8, 10, 7, 8, 8, 7, 7, 7, 7]"
      ]
     },
     "execution_count": 42,
     "metadata": {},
     "output_type": "execute_result"
    }
   ],
   "source": [
    "rating[:10]"
   ]
  },
  {
   "cell_type": "code",
   "execution_count": 43,
   "metadata": {},
   "outputs": [
    {
     "data": {
      "text/plain": [
       "['data\\\\train\\\\pos\\\\0_9.txt',\n",
       " 'data\\\\train\\\\pos\\\\10000_8.txt',\n",
       " 'data\\\\train\\\\pos\\\\10001_10.txt',\n",
       " 'data\\\\train\\\\pos\\\\10002_7.txt',\n",
       " 'data\\\\train\\\\pos\\\\10003_8.txt',\n",
       " 'data\\\\train\\\\pos\\\\10004_8.txt',\n",
       " 'data\\\\train\\\\pos\\\\10005_7.txt',\n",
       " 'data\\\\train\\\\pos\\\\10006_7.txt',\n",
       " 'data\\\\train\\\\pos\\\\10007_7.txt',\n",
       " 'data\\\\train\\\\pos\\\\10008_7.txt']"
      ]
     },
     "execution_count": 43,
     "metadata": {},
     "output_type": "execute_result"
    }
   ],
   "source": [
    "ls_train[:10]"
   ]
  },
  {
   "cell_type": "code",
   "execution_count": 44,
   "metadata": {},
   "outputs": [],
   "source": [
    "rating_test = []\n",
    "for i in ls_test:\n",
    "    rating_test.append(int(re.findall(r'_\\d+', i)[0][1:]))"
   ]
  },
  {
   "cell_type": "code",
   "execution_count": 45,
   "metadata": {},
   "outputs": [
    {
     "data": {
      "text/plain": [
       "[10, 7, 9, 8, 8, 9, 8, 7, 10, 8]"
      ]
     },
     "execution_count": 45,
     "metadata": {},
     "output_type": "execute_result"
    }
   ],
   "source": [
    "rating_test[:10]"
   ]
  },
  {
   "cell_type": "code",
   "execution_count": 46,
   "metadata": {},
   "outputs": [
    {
     "data": {
      "text/plain": [
       "['data\\\\test\\\\pos\\\\0_10.txt',\n",
       " 'data\\\\test\\\\pos\\\\10000_7.txt',\n",
       " 'data\\\\test\\\\pos\\\\10001_9.txt',\n",
       " 'data\\\\test\\\\pos\\\\10002_8.txt',\n",
       " 'data\\\\test\\\\pos\\\\10003_8.txt',\n",
       " 'data\\\\test\\\\pos\\\\10004_9.txt',\n",
       " 'data\\\\test\\\\pos\\\\10005_8.txt',\n",
       " 'data\\\\test\\\\pos\\\\10006_7.txt',\n",
       " 'data\\\\test\\\\pos\\\\10007_10.txt',\n",
       " 'data\\\\test\\\\pos\\\\10008_8.txt']"
      ]
     },
     "execution_count": 46,
     "metadata": {},
     "output_type": "execute_result"
    }
   ],
   "source": [
    "ls_test[:10]"
   ]
  },
  {
   "cell_type": "code",
   "execution_count": 47,
   "metadata": {},
   "outputs": [],
   "source": [
    "# сохраним в виде файла\n",
    "\n",
    "# тренировочные данные\n",
    "with open('data\\\\rating_train.txt','w') as f:\n",
    "    f.write('\\n'.join(str(i) for i in rating))\n",
    "        \n",
    "# тестовые данные \n",
    "with open('data\\\\rating_test.txt','w') as f:\n",
    "    f.write('\\n'.join(str(i) for i in rating_test))"
   ]
  },
  {
   "cell_type": "markdown",
   "metadata": {},
   "source": [
    "Распределение оценок:"
   ]
  },
  {
   "cell_type": "code",
   "execution_count": 48,
   "metadata": {},
   "outputs": [
    {
     "data": {
      "text/plain": [
       "<AxesSubplot:ylabel='Count'>"
      ]
     },
     "execution_count": 48,
     "metadata": {},
     "output_type": "execute_result"
    },
    {
     "data": {
      "image/png": "[encoded data removed]",
      "text/plain": [
       "<Figure size 432x288 with 1 Axes>"
      ]
     },
     "metadata": {
      "needs_background": "light"
     },
     "output_type": "display_data"
    }
   ],
   "source": [
    "sns.histplot(rating)"
   ]
  },
  {
   "cell_type": "code",
   "execution_count": 49,
   "metadata": {},
   "outputs": [
    {
     "data": {
      "text/plain": [
       "<AxesSubplot:ylabel='Count'>"
      ]
     },
     "execution_count": 49,
     "metadata": {},
     "output_type": "execute_result"
    },
    {
     "data": {
      "image/png": "[encoded data removed]",
      "text/plain": [
       "<Figure size 432x288 with 1 Axes>"
      ]
     },
     "metadata": {
      "needs_background": "light"
     },
     "output_type": "display_data"
    }
   ],
   "source": [
    "sns.histplot(rating_test)"
   ]
  },
  {
   "cell_type": "markdown",
   "metadata": {},
   "source": [
    "# Обучение"
   ]
  },
  {
   "cell_type": "markdown",
   "metadata": {},
   "source": [
    "### Cтатус комменатрия: положительный/отрицательный"
   ]
  },
  {
   "cell_type": "markdown",
   "metadata": {},
   "source": [
    "Самая простая модель для обучения - Логистическая регресиия. Обучим как есть \"из коробки\", без подбора парметров."
   ]
  },
  {
   "cell_type": "code",
   "execution_count": 50,
   "metadata": {},
   "outputs": [],
   "source": [
    "# Разделение на трейн и валидацию\n",
    "X_train, X_val, y_train, y_val = train_test_split(X, target, train_size = 0.8, random_state=10)"
   ]
  },
  {
   "cell_type": "code",
   "execution_count": 51,
   "metadata": {},
   "outputs": [
    {
     "data": {
      "text/plain": [
       "0.8836"
      ]
     },
     "execution_count": 51,
     "metadata": {},
     "output_type": "execute_result"
    }
   ],
   "source": [
    "# модель\n",
    "lr = LogisticRegression(solver = 'liblinear', random_state=10) # с 'lbfgs' выходит ошибка 'str' object has no attribute 'decode'\n",
    "# обучение\n",
    "lr.fit(X_train, y_train)\n",
    "# точность на валидационных данных\n",
    "accuracy_score(y_val, lr.predict(X_val))"
   ]
  },
  {
   "cell_type": "code",
   "execution_count": 52,
   "metadata": {},
   "outputs": [
    {
     "data": {
      "text/plain": [
       "0.8692"
      ]
     },
     "execution_count": 52,
     "metadata": {},
     "output_type": "execute_result"
    }
   ],
   "source": [
    "# обучим на всех данных\n",
    "lr.fit(X, target)\n",
    "# точность на тестовых данных\n",
    "accuracy_score(target, lr.predict(X_test))"
   ]
  },
  {
   "cell_type": "markdown",
   "metadata": {},
   "source": [
    "### Рейтинг"
   ]
  },
  {
   "cell_type": "code",
   "execution_count": 53,
   "metadata": {},
   "outputs": [],
   "source": [
    "# Разделение на трейн и валидацию\n",
    "X_train, X_val, y_train, y_val = train_test_split(X, rating, train_size = 0.8, random_state=10)"
   ]
  },
  {
   "cell_type": "code",
   "execution_count": 54,
   "metadata": {},
   "outputs": [
    {
     "data": {
      "text/plain": [
       "0.3804"
      ]
     },
     "execution_count": 54,
     "metadata": {},
     "output_type": "execute_result"
    }
   ],
   "source": [
    "# модель\n",
    "lr1 = LogisticRegression(solver = 'liblinear', random_state=10) # с solver='lbfgs' выходит ошибка\n",
    "# обучение\n",
    "lr1.fit(X_train, y_train)\n",
    "# точность на валидационных данных\n",
    "accuracy_score(y_val, lr1.predict(X_val))"
   ]
  },
  {
   "cell_type": "code",
   "execution_count": 55,
   "metadata": {},
   "outputs": [
    {
     "data": {
      "text/plain": [
       "0.36852"
      ]
     },
     "execution_count": 55,
     "metadata": {},
     "output_type": "execute_result"
    }
   ],
   "source": [
    "# обучим на всех данных\n",
    "lr1.fit(X, rating)\n",
    "# точность на тестовых данных\n",
    "accuracy_score(rating_test, lr1.predict(X_test))"
   ]
  },
  {
   "cell_type": "code",
   "execution_count": 60,
   "metadata": {},
   "outputs": [
    {
     "name": "stdout",
     "output_type": "stream",
     "text": [
      "              precision    recall  f1-score   support\n",
      "\n",
      "           1       0.55      0.65      0.60      5022\n",
      "           2       0.19      0.16      0.17      2302\n",
      "           3       0.22      0.18      0.20      2541\n",
      "           4       0.27      0.25      0.26      2635\n",
      "           7       0.24      0.22      0.23      2307\n",
      "           8       0.23      0.22      0.22      2850\n",
      "           9       0.20      0.15      0.17      2344\n",
      "          10       0.50      0.59      0.54      4999\n",
      "\n",
      "    accuracy                           0.37     25000\n",
      "   macro avg       0.30      0.30      0.30     25000\n",
      "weighted avg       0.34      0.37      0.35     25000\n",
      "\n"
     ]
    }
   ],
   "source": [
    "print(classification_report(rating_test, lr1.predict(X_test), \\\n",
    "    target_names = ['1', '2','3', '4', '7', '8', '9', '10']))"
   ]
  },
  {
   "cell_type": "markdown",
   "metadata": {},
   "source": [
    "«recall» показывает меру полноты классификатора. Из отчета видно, что полнота миноритарных классов (2,3,4,7,8,9) гораздо меньше, то есть модель более склонна к классу большинства (1 и 10)."
   ]
  },
  {
   "cell_type": "markdown",
   "metadata": {},
   "source": [
    "# Выводы"
   ]
  },
  {
   "cell_type": "markdown",
   "metadata": {},
   "source": [
    "Базовая модель для определения статуса комментария (положительный/отрицательный) дает уже хорошие результаты при самой простой подготовке данных. \n",
    "\n",
    "Будем пытаться улучшить результаты при помощи более сложных способов предобработки, других алгоритмов. Также учтем дисбаланс классов во второй модели."
   ]
  },
  {
   "cell_type": "code",
   "execution_count": null,
   "metadata": {},
   "outputs": [],
   "source": []
  }
 ],
 "metadata": {
  "kernelspec": {
   "display_name": "Python 3",
   "language": "python",
   "name": "python3"
  },
  "language_info": {
   "codemirror_mode": {
    "name": "ipython",
    "version": 3
   },
   "file_extension": ".py",
   "mimetype": "text/x-python",
   "name": "python",
   "nbconvert_exporter": "python",
   "pygments_lexer": "ipython3",
   "version": "3.8.5"
  }
 },
 "nbformat": 4,
 "nbformat_minor": 4
}
