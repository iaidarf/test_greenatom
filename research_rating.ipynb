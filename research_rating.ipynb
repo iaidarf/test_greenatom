{
 "cells": [
  {
   "cell_type": "markdown",
   "metadata": {},
   "source": [
    "# Загрузка библиотек"
   ]
  },
  {
   "cell_type": "code",
   "execution_count": 1,
   "metadata": {},
   "outputs": [],
   "source": [
    "# pip install --user imblearn\n",
    "# pip install -U threadpoolctl # для устранения AttributeError: 'NoneType' object has no attribute 'split'"
   ]
  },
  {
   "cell_type": "code",
   "execution_count": 1,
   "metadata": {},
   "outputs": [],
   "source": [
    "import re\n",
    "from sklearn.feature_extraction.text import CountVectorizer\n",
    "from sklearn.linear_model import LogisticRegression\n",
    "from sklearn.svm import LinearSVC\n",
    "import seaborn as sns\n",
    "from sklearn.metrics import accuracy_score, classification_report\n",
    "from sklearn.model_selection import train_test_split\n",
    "from imblearn.under_sampling import NearMiss\n",
    "from sklearn.feature_extraction.text import TfidfVectorizer\n",
    "from joblib import dump, load"
   ]
  },
  {
   "cell_type": "markdown",
   "metadata": {},
   "source": [
    "# Загрузка данных"
   ]
  },
  {
   "cell_type": "code",
   "execution_count": 2,
   "metadata": {},
   "outputs": [],
   "source": [
    "reviews_train = []\n",
    "for line in open('data//train_data.txt', 'r'):\n",
    "    reviews_train.append(line.strip())\n",
    "    \n",
    "reviews_test = []\n",
    "for line in open('data//test_data.txt', 'r'):\n",
    "    reviews_test.append(line.strip())"
   ]
  },
  {
   "cell_type": "code",
   "execution_count": 3,
   "metadata": {},
   "outputs": [],
   "source": [
    "# сразу сделаем предварительную очистку данных: избавимся от знаков и сделаем все буквы строчными\n",
    "\n",
    "REPLACE_NO_SPACE = re.compile(\"[.;:!\\'?,\\\"()\\[\\]]\")\n",
    "REPLACE_WITH_SPACE = re.compile(\"(<br\\s*/><br\\s*/>)|(\\-)|(\\/)\")\n",
    "\n",
    "def preprocess_reviews(reviews):\n",
    "    reviews = [REPLACE_NO_SPACE.sub(\"\", line.lower()) for line in reviews]\n",
    "    reviews = [REPLACE_WITH_SPACE.sub(\" \", line) for line in reviews]\n",
    "    \n",
    "    return reviews\n",
    "\n",
    "reviews_train_clean = preprocess_reviews(reviews_train)\n",
    "reviews_test_clean = preprocess_reviews(reviews_test)"
   ]
  },
  {
   "cell_type": "markdown",
   "metadata": {},
   "source": [
    "# Целевые признаки"
   ]
  },
  {
   "cell_type": "code",
   "execution_count": 4,
   "metadata": {},
   "outputs": [],
   "source": [
    "# Рейтинги\n",
    "rating = []\n",
    "for line in open('data//rating_train.txt', 'r'):\n",
    "    rating.append(line.strip())\n",
    "    \n",
    "rating_test = []\n",
    "for line in open('data//rating_test.txt', 'r'):\n",
    "    rating_test.append(line.strip())"
   ]
  },
  {
   "cell_type": "markdown",
   "metadata": {},
   "source": [
    "# Подготовка"
   ]
  },
  {
   "cell_type": "markdown",
   "metadata": {},
   "source": [
    "Для балансировки классов"
   ]
  },
  {
   "cell_type": "code",
   "execution_count": 5,
   "metadata": {},
   "outputs": [],
   "source": [
    "nm = NearMiss()"
   ]
  },
  {
   "cell_type": "markdown",
   "metadata": {},
   "source": [
    "Функция для обучения модели и вывода метрик"
   ]
  },
  {
   "cell_type": "code",
   "execution_count": 6,
   "metadata": {},
   "outputs": [],
   "source": [
    "def model_fit_score(model, X, rating):\n",
    "    print(model)\n",
    "   \n",
    "    # Разделение на трейн и валидацию\n",
    "    X_train, X_val, y_train, y_val = train_test_split(X, rating, train_size = 0.8, random_state=10)\n",
    "    # балансировка\n",
    "\n",
    "    # обучение на трейн, с предвариельной балансировкой\n",
    "    X_train, y_train = nm.fit_resample(X_train, y_train)\n",
    "    model.fit(X_train, y_train)\n",
    "    print('точность на валидационных данных: ', accuracy_score(y_val, model.predict(X_val)))\n",
    "    \n",
    "    # обучим на всех данных, предварительно сделав балансировку\n",
    "    X, rating = nm.fit_resample(X, rating)\n",
    "    model.fit(X, rating)\n",
    "    print('точность на тестовых данных :', accuracy_score(rating_test, model.predict(X_test)))\n",
    "    print('отчет на тестовых данных')\n",
    "    print(classification_report(rating_test, model.predict(X_test), \\\n",
    "          target_names = ['1', '2','3', '4', '7', '8', '9', '10']))"
   ]
  },
  {
   "cell_type": "markdown",
   "metadata": {},
   "source": [
    "Будем тестировать две модели:\n",
    "- логистическую регрессию\n",
    "- метод опорных векторов \n",
    "\n",
    "Обе эти модели хорошо работют с разреженными данными."
   ]
  },
  {
   "cell_type": "code",
   "execution_count": 7,
   "metadata": {},
   "outputs": [],
   "source": [
    "lr = LogisticRegression(random_state=10, solver = 'liblinear')\n",
    "svc = LinearSVC()"
   ]
  },
  {
   "cell_type": "markdown",
   "metadata": {},
   "source": [
    "# Поиск решения"
   ]
  },
  {
   "cell_type": "markdown",
   "metadata": {},
   "source": [
    "## N-граммы"
   ]
  },
  {
   "cell_type": "markdown",
   "metadata": {},
   "source": [
    "Попробуем вместо отдельных слов использовать n-граммы. А также исключим стоп-слова."
   ]
  },
  {
   "cell_type": "code",
   "execution_count": 50,
   "metadata": {},
   "outputs": [],
   "source": [
    "# вариант с ngram_range=(1, 2)\n",
    "cv1 = CountVectorizer(binary=True, ngram_range=(1, 2), stop_words='english')\n",
    "# обучаем на трейн-данных\n",
    "cv1.fit(reviews_train_clean)\n",
    "# векторизуем трейн и тест данные\n",
    "X = cv1.transform(reviews_train_clean)\n",
    "X_test = cv1.transform(reviews_test_clean)"
   ]
  },
  {
   "cell_type": "code",
   "execution_count": 51,
   "metadata": {},
   "outputs": [
    {
     "data": {
      "text/plain": [
       "<AxesSubplot:ylabel='Count'>"
      ]
     },
     "execution_count": 51,
     "metadata": {},
     "output_type": "execute_result"
    },
    {
     "data": {
      "image/png": "[encoded data removed]",
      "text/plain": [
       "<Figure size 432x288 with 1 Axes>"
      ]
     },
     "metadata": {
      "needs_background": "light"
     },
     "output_type": "display_data"
    }
   ],
   "source": [
    "# для проверки\n",
    "# распределение классов до балансировки\n",
    "sns.histplot(rating)"
   ]
  },
  {
   "cell_type": "code",
   "execution_count": 52,
   "metadata": {},
   "outputs": [
    {
     "data": {
      "text/plain": [
       "<AxesSubplot:ylabel='Count'>"
      ]
     },
     "execution_count": 52,
     "metadata": {},
     "output_type": "execute_result"
    },
    {
     "data": {
      "image/png": "[encoded data removed]",
      "text/plain": [
       "<Figure size 432x288 with 1 Axes>"
      ]
     },
     "metadata": {
      "needs_background": "light"
     },
     "output_type": "display_data"
    }
   ],
   "source": [
    "# сбалансируем классы\n",
    "X_, rating_ = nm.fit_resample(X, rating)\n",
    "# посмотрим что получилось\n",
    "sns.histplot(rating_)"
   ]
  },
  {
   "cell_type": "markdown",
   "metadata": {},
   "source": [
    "Кол-во классов сравнялось, уменьшив размерность доминирующего класса."
   ]
  },
  {
   "cell_type": "code",
   "execution_count": 63,
   "metadata": {},
   "outputs": [
    {
     "name": "stdout",
     "output_type": "stream",
     "text": [
      "LogisticRegression(random_state=10, solver='liblinear')\n",
      "точность на валидационных данных:  0.3426\n",
      "точность на тестовых данных : 0.34616\n",
      "отчет на тестовых данных\n",
      "              precision    recall  f1-score   support\n",
      "\n",
      "           1       0.62      0.49      0.55      5022\n",
      "           2       0.55      0.47      0.51      4999\n",
      "           3       0.20      0.27      0.23      2302\n",
      "           4       0.22      0.24      0.23      2541\n",
      "           7       0.28      0.26      0.27      2635\n",
      "           8       0.26      0.29      0.27      2307\n",
      "           9       0.24      0.20      0.22      2850\n",
      "          10       0.21      0.30      0.25      2344\n",
      "\n",
      "    accuracy                           0.35     25000\n",
      "   macro avg       0.32      0.31      0.31     25000\n",
      "weighted avg       0.38      0.35      0.36     25000\n",
      "\n"
     ]
    }
   ],
   "source": [
    "model_fit_score(lr, X, rating)"
   ]
  },
  {
   "cell_type": "markdown",
   "metadata": {},
   "source": [
    "Понизилась точность модели по сравнению с baseline, но удалось немного повысить значения \"recall\" для миноритарных классов. Таким образом убрали несбалансированность классов."
   ]
  },
  {
   "cell_type": "code",
   "execution_count": 66,
   "metadata": {},
   "outputs": [
    {
     "name": "stdout",
     "output_type": "stream",
     "text": [
      "LinearSVC()\n"
     ]
    },
    {
     "name": "stderr",
     "output_type": "stream",
     "text": [
      "C:\\Users\\i_a_f\\anaconda3\\lib\\site-packages\\sklearn\\svm\\_classes.py:32: FutureWarning: The default value of `dual` will change from `True` to `'auto'` in 1.5. Set the value of `dual` explicitly to suppress the warning.\n",
      "  warnings.warn(\n",
      "C:\\Users\\i_a_f\\anaconda3\\lib\\site-packages\\sklearn\\svm\\_base.py:1242: ConvergenceWarning: Liblinear failed to converge, increase the number of iterations.\n",
      "  warnings.warn(\n"
     ]
    },
    {
     "name": "stdout",
     "output_type": "stream",
     "text": [
      "точность на валидационных данных:  0.344\n"
     ]
    },
    {
     "name": "stderr",
     "output_type": "stream",
     "text": [
      "C:\\Users\\i_a_f\\anaconda3\\lib\\site-packages\\sklearn\\svm\\_classes.py:32: FutureWarning: The default value of `dual` will change from `True` to `'auto'` in 1.5. Set the value of `dual` explicitly to suppress the warning.\n",
      "  warnings.warn(\n",
      "C:\\Users\\i_a_f\\anaconda3\\lib\\site-packages\\sklearn\\svm\\_base.py:1242: ConvergenceWarning: Liblinear failed to converge, increase the number of iterations.\n",
      "  warnings.warn(\n"
     ]
    },
    {
     "name": "stdout",
     "output_type": "stream",
     "text": [
      "точность на тестовых данных : 0.3414\n",
      "отчет на тестовых данных\n",
      "              precision    recall  f1-score   support\n",
      "\n",
      "           1       0.62      0.49      0.55      5022\n",
      "           2       0.55      0.47      0.51      4999\n",
      "           3       0.20      0.27      0.23      2302\n",
      "           4       0.22      0.24      0.23      2541\n",
      "           7       0.28      0.26      0.27      2635\n",
      "           8       0.26      0.29      0.27      2307\n",
      "           9       0.24      0.20      0.22      2850\n",
      "          10       0.21      0.30      0.25      2344\n",
      "\n",
      "    accuracy                           0.35     25000\n",
      "   macro avg       0.32      0.31      0.31     25000\n",
      "weighted avg       0.38      0.35      0.36     25000\n",
      "\n"
     ]
    }
   ],
   "source": [
    "model_fit_score(svc, X, rating)"
   ]
  },
  {
   "cell_type": "code",
   "execution_count": 25,
   "metadata": {},
   "outputs": [],
   "source": [
    "# вариант с ngram_range=(1, 3)\n",
    "cv2 = CountVectorizer(binary=True, ngram_range=(1, 3), stop_words='english')\n",
    "# обучаем на трейн-данных\n",
    "cv2.fit(reviews_train_clean)\n",
    "# векторизуем трейн и тест данные\n",
    "X = cv2.transform(reviews_train_clean)\n",
    "X_test = cv2.transform(reviews_test_clean)"
   ]
  },
  {
   "cell_type": "code",
   "execution_count": 68,
   "metadata": {},
   "outputs": [
    {
     "name": "stdout",
     "output_type": "stream",
     "text": [
      "LogisticRegression(random_state=10, solver='liblinear')\n",
      "точность на валидационных данных:  0.3514\n",
      "точность на тестовых данных : 0.35708\n",
      "отчет на тестовых данных\n",
      "              precision    recall  f1-score   support\n",
      "\n",
      "           1       0.61      0.52      0.56      5022\n",
      "           2       0.54      0.50      0.52      4999\n",
      "           3       0.20      0.28      0.24      2302\n",
      "           4       0.23      0.23      0.23      2541\n",
      "           7       0.29      0.26      0.27      2635\n",
      "           8       0.27      0.31      0.29      2307\n",
      "           9       0.23      0.18      0.20      2850\n",
      "          10       0.22      0.30      0.25      2344\n",
      "\n",
      "    accuracy                           0.36     25000\n",
      "   macro avg       0.32      0.32      0.32     25000\n",
      "weighted avg       0.38      0.36      0.36     25000\n",
      "\n"
     ]
    }
   ],
   "source": [
    "model_fit_score(lr, X, rating)"
   ]
  },
  {
   "cell_type": "code",
   "execution_count": 69,
   "metadata": {},
   "outputs": [
    {
     "name": "stdout",
     "output_type": "stream",
     "text": [
      "LinearSVC()\n"
     ]
    },
    {
     "name": "stderr",
     "output_type": "stream",
     "text": [
      "C:\\Users\\i_a_f\\anaconda3\\lib\\site-packages\\sklearn\\svm\\_classes.py:32: FutureWarning: The default value of `dual` will change from `True` to `'auto'` in 1.5. Set the value of `dual` explicitly to suppress the warning.\n",
      "  warnings.warn(\n",
      "C:\\Users\\i_a_f\\anaconda3\\lib\\site-packages\\sklearn\\svm\\_base.py:1242: ConvergenceWarning: Liblinear failed to converge, increase the number of iterations.\n",
      "  warnings.warn(\n"
     ]
    },
    {
     "name": "stdout",
     "output_type": "stream",
     "text": [
      "точность на валидационных данных:  0.3542\n"
     ]
    },
    {
     "name": "stderr",
     "output_type": "stream",
     "text": [
      "C:\\Users\\i_a_f\\anaconda3\\lib\\site-packages\\sklearn\\svm\\_classes.py:32: FutureWarning: The default value of `dual` will change from `True` to `'auto'` in 1.5. Set the value of `dual` explicitly to suppress the warning.\n",
      "  warnings.warn(\n",
      "C:\\Users\\i_a_f\\anaconda3\\lib\\site-packages\\sklearn\\svm\\_base.py:1242: ConvergenceWarning: Liblinear failed to converge, increase the number of iterations.\n",
      "  warnings.warn(\n"
     ]
    },
    {
     "name": "stdout",
     "output_type": "stream",
     "text": [
      "точность на тестовых данных : 0.3574\n",
      "отчет на тестовых данных\n",
      "              precision    recall  f1-score   support\n",
      "\n",
      "           1       0.61      0.52      0.56      5022\n",
      "           2       0.54      0.50      0.52      4999\n",
      "           3       0.20      0.28      0.24      2302\n",
      "           4       0.23      0.23      0.23      2541\n",
      "           7       0.29      0.26      0.27      2635\n",
      "           8       0.27      0.31      0.29      2307\n",
      "           9       0.23      0.18      0.20      2850\n",
      "          10       0.22      0.30      0.25      2344\n",
      "\n",
      "    accuracy                           0.36     25000\n",
      "   macro avg       0.32      0.32      0.32     25000\n",
      "weighted avg       0.38      0.36      0.36     25000\n",
      "\n"
     ]
    }
   ],
   "source": [
    "model_fit_score(svc, X, rating)"
   ]
  },
  {
   "cell_type": "markdown",
   "metadata": {},
   "source": [
    "# TF-IDF "
   ]
  },
  {
   "cell_type": "markdown",
   "metadata": {},
   "source": [
    "Попробуем использовать TF-IDF статистику вместо слов/n-грамм."
   ]
  },
  {
   "cell_type": "code",
   "execution_count": 8,
   "metadata": {},
   "outputs": [],
   "source": [
    "tfidf_vectorizer1 = TfidfVectorizer()\n",
    "# обучаем на трейн-данных\n",
    "tfidf_vectorizer1.fit(reviews_train_clean)\n",
    "# векторизуем трейн и тест данные\n",
    "X = tfidf_vectorizer1.transform(reviews_train_clean)\n",
    "X_test = tfidf_vectorizer1.transform(reviews_test_clean)"
   ]
  },
  {
   "cell_type": "code",
   "execution_count": 9,
   "metadata": {},
   "outputs": [
    {
     "name": "stdout",
     "output_type": "stream",
     "text": [
      "LogisticRegression(random_state=10, solver='liblinear')\n",
      "точность на валидационных данных:  0.3344\n",
      "точность на тестовых данных : 0.33672\n",
      "отчет на тестовых данных\n",
      "              precision    recall  f1-score   support\n",
      "\n",
      "           1       0.58      0.46      0.51      5022\n",
      "           2       0.56      0.41      0.47      4999\n",
      "           3       0.18      0.34      0.24      2302\n",
      "           4       0.22      0.19      0.20      2541\n",
      "           7       0.31      0.28      0.30      2635\n",
      "           8       0.30      0.32      0.31      2307\n",
      "           9       0.26      0.17      0.21      2850\n",
      "          10       0.20      0.35      0.25      2344\n",
      "\n",
      "    accuracy                           0.34     25000\n",
      "   macro avg       0.33      0.32      0.31     25000\n",
      "weighted avg       0.38      0.34      0.35     25000\n",
      "\n"
     ]
    }
   ],
   "source": [
    "model_fit_score(lr, X, rating)"
   ]
  },
  {
   "cell_type": "code",
   "execution_count": 10,
   "metadata": {},
   "outputs": [
    {
     "name": "stdout",
     "output_type": "stream",
     "text": [
      "LinearSVC()\n"
     ]
    },
    {
     "name": "stderr",
     "output_type": "stream",
     "text": [
      "C:\\Users\\i_a_f\\anaconda3\\lib\\site-packages\\sklearn\\svm\\_classes.py:32: FutureWarning: The default value of `dual` will change from `True` to `'auto'` in 1.5. Set the value of `dual` explicitly to suppress the warning.\n",
      "  warnings.warn(\n"
     ]
    },
    {
     "name": "stdout",
     "output_type": "stream",
     "text": [
      "точность на валидационных данных:  0.3264\n"
     ]
    },
    {
     "name": "stderr",
     "output_type": "stream",
     "text": [
      "C:\\Users\\i_a_f\\anaconda3\\lib\\site-packages\\sklearn\\svm\\_classes.py:32: FutureWarning: The default value of `dual` will change from `True` to `'auto'` in 1.5. Set the value of `dual` explicitly to suppress the warning.\n",
      "  warnings.warn(\n"
     ]
    },
    {
     "name": "stdout",
     "output_type": "stream",
     "text": [
      "точность на тестовых данных : 0.32056\n",
      "отчет на тестовых данных\n",
      "              precision    recall  f1-score   support\n",
      "\n",
      "           1       0.58      0.46      0.51      5022\n",
      "           2       0.56      0.41      0.47      4999\n",
      "           3       0.18      0.34      0.24      2302\n",
      "           4       0.22      0.19      0.20      2541\n",
      "           7       0.31      0.28      0.30      2635\n",
      "           8       0.30      0.32      0.31      2307\n",
      "           9       0.26      0.17      0.21      2850\n",
      "          10       0.20      0.35      0.25      2344\n",
      "\n",
      "    accuracy                           0.34     25000\n",
      "   macro avg       0.33      0.32      0.31     25000\n",
      "weighted avg       0.38      0.34      0.35     25000\n",
      "\n"
     ]
    }
   ],
   "source": [
    "model_fit_score(svc, X, rating)"
   ]
  },
  {
   "cell_type": "code",
   "execution_count": 8,
   "metadata": {},
   "outputs": [],
   "source": [
    "# вариант с удалением стоп-слов\n",
    "tfidf_vectorizer2 = TfidfVectorizer(stop_words='english')\n",
    "# обучаем на трейн-данных\n",
    "tfidf_vectorizer2.fit(reviews_train_clean)\n",
    "# векторизуем трейн и тест данные\n",
    "X = tfidf_vectorizer2.transform(reviews_train_clean)\n",
    "X_test = tfidf_vectorizer2.transform(reviews_test_clean)"
   ]
  },
  {
   "cell_type": "code",
   "execution_count": 9,
   "metadata": {},
   "outputs": [
    {
     "name": "stdout",
     "output_type": "stream",
     "text": [
      "LogisticRegression(random_state=10, solver='liblinear')\n",
      "точность на валидационных данных:  0.3576\n",
      "точность на тестовых данных : 0.34408\n",
      "отчет на тестовых данных\n",
      "              precision    recall  f1-score   support\n",
      "\n",
      "           1       0.61      0.51      0.56      5022\n",
      "           2       0.57      0.43      0.49      4999\n",
      "           3       0.19      0.28      0.22      2302\n",
      "           4       0.22      0.23      0.22      2541\n",
      "           7       0.27      0.28      0.28      2635\n",
      "           8       0.27      0.30      0.28      2307\n",
      "           9       0.24      0.18      0.21      2850\n",
      "          10       0.21      0.31      0.25      2344\n",
      "\n",
      "    accuracy                           0.34     25000\n",
      "   macro avg       0.32      0.31      0.31     25000\n",
      "weighted avg       0.38      0.34      0.36     25000\n",
      "\n"
     ]
    }
   ],
   "source": [
    "model_fit_score(lr, X, rating)"
   ]
  },
  {
   "cell_type": "code",
   "execution_count": 15,
   "metadata": {},
   "outputs": [
    {
     "name": "stdout",
     "output_type": "stream",
     "text": [
      "LinearSVC()\n"
     ]
    },
    {
     "name": "stderr",
     "output_type": "stream",
     "text": [
      "C:\\Users\\i_a_f\\anaconda3\\lib\\site-packages\\sklearn\\svm\\_classes.py:32: FutureWarning: The default value of `dual` will change from `True` to `'auto'` in 1.5. Set the value of `dual` explicitly to suppress the warning.\n",
      "  warnings.warn(\n"
     ]
    },
    {
     "name": "stdout",
     "output_type": "stream",
     "text": [
      "точность на валидационных данных:  0.3318\n"
     ]
    },
    {
     "name": "stderr",
     "output_type": "stream",
     "text": [
      "C:\\Users\\i_a_f\\anaconda3\\lib\\site-packages\\sklearn\\svm\\_classes.py:32: FutureWarning: The default value of `dual` will change from `True` to `'auto'` in 1.5. Set the value of `dual` explicitly to suppress the warning.\n",
      "  warnings.warn(\n"
     ]
    },
    {
     "name": "stdout",
     "output_type": "stream",
     "text": [
      "точность на тестовых данных : 0.31172\n",
      "отчет на тестовых данных\n",
      "              precision    recall  f1-score   support\n",
      "\n",
      "           1       0.61      0.51      0.56      5022\n",
      "           2       0.57      0.43      0.49      4999\n",
      "           3       0.19      0.28      0.22      2302\n",
      "           4       0.22      0.23      0.22      2541\n",
      "           7       0.27      0.28      0.28      2635\n",
      "           8       0.27      0.30      0.28      2307\n",
      "           9       0.24      0.18      0.21      2850\n",
      "          10       0.21      0.31      0.25      2344\n",
      "\n",
      "    accuracy                           0.34     25000\n",
      "   macro avg       0.32      0.31      0.31     25000\n",
      "weighted avg       0.38      0.34      0.36     25000\n",
      "\n"
     ]
    }
   ],
   "source": [
    "model_fit_score(svc, X, rating)"
   ]
  },
  {
   "cell_type": "markdown",
   "metadata": {},
   "source": [
    "# Подбор гиперпараметров"
   ]
  },
  {
   "cell_type": "markdown",
   "metadata": {},
   "source": [
    "Наилучший результат на тестовых данных показала модель опорных векторов c CountVectorizer(ngram_range=(1, 3)) с удалением стоп-слов. У модели логистической регрессии с TF-IDF с удалением стоп-слов результат чуть похуже, но в качестве финальной модели выберу все-таки его, так как дамп этой модели получается гораздо более \"легким\" и работает гораздо шустрее. Попробуем подобрать к нему оптимальные гиперпараметры."
   ]
  },
  {
   "cell_type": "code",
   "execution_count": 11,
   "metadata": {},
   "outputs": [],
   "source": [
    "# заново подготовим данные - векторизуем трейн и тест данные\n",
    "X = tfidf_vectorizer2.transform(reviews_train_clean)\n",
    "X_test = tfidf_vectorizer2.transform(reviews_test_clean)\n",
    "\n",
    "# балансировка\n",
    "X, rating = nm.fit_resample(X, rating)"
   ]
  },
  {
   "cell_type": "code",
   "execution_count": 12,
   "metadata": {},
   "outputs": [
    {
     "name": "stdout",
     "output_type": "stream",
     "text": [
      "LogisticRegression(C=0.01, random_state=10, solver='liblinear')\n",
      "точность на тестовых данных : 0.32712\n",
      "отчет на тестовых данных\n",
      "              precision    recall  f1-score   support\n",
      "\n",
      "           1       0.42      0.65      0.51      5022\n",
      "           2       0.53      0.42      0.47      4999\n",
      "           3       0.20      0.15      0.17      2302\n",
      "           4       0.24      0.11      0.15      2541\n",
      "           7       0.29      0.15      0.20      2635\n",
      "           8       0.23      0.30      0.26      2307\n",
      "           9       0.26      0.10      0.15      2850\n",
      "          10       0.17      0.34      0.23      2344\n",
      "\n",
      "    accuracy                           0.33     25000\n",
      "   macro avg       0.29      0.28      0.27     25000\n",
      "weighted avg       0.33      0.33      0.31     25000\n",
      "\n",
      "\n",
      "LogisticRegression(C=0.1, random_state=10, solver='liblinear')\n",
      "точность на тестовых данных : 0.34656\n",
      "отчет на тестовых данных\n",
      "              precision    recall  f1-score   support\n",
      "\n",
      "           1       0.51      0.58      0.54      5022\n",
      "           2       0.54      0.48      0.51      4999\n",
      "           3       0.20      0.23      0.21      2302\n",
      "           4       0.23      0.16      0.19      2541\n",
      "           7       0.29      0.22      0.25      2635\n",
      "           8       0.26      0.32      0.28      2307\n",
      "           9       0.26      0.13      0.18      2850\n",
      "          10       0.18      0.33      0.24      2344\n",
      "\n",
      "    accuracy                           0.35     25000\n",
      "   macro avg       0.31      0.30      0.30     25000\n",
      "weighted avg       0.35      0.35      0.34     25000\n",
      "\n",
      "\n",
      "LogisticRegression(C=0.5, random_state=10, solver='liblinear')\n",
      "точность на тестовых данных : 0.35028\n",
      "отчет на тестовых данных\n",
      "              precision    recall  f1-score   support\n",
      "\n",
      "           1       0.59      0.52      0.56      5022\n",
      "           2       0.57      0.45      0.50      4999\n",
      "           3       0.19      0.28      0.23      2302\n",
      "           4       0.22      0.22      0.22      2541\n",
      "           7       0.29      0.28      0.28      2635\n",
      "           8       0.27      0.31      0.29      2307\n",
      "           9       0.25      0.17      0.20      2850\n",
      "          10       0.20      0.32      0.25      2344\n",
      "\n",
      "    accuracy                           0.35     25000\n",
      "   macro avg       0.32      0.32      0.32     25000\n",
      "weighted avg       0.38      0.35      0.36     25000\n",
      "\n",
      "\n",
      "LogisticRegression(C=1, random_state=10, solver='liblinear')\n",
      "точность на тестовых данных : 0.34408\n",
      "отчет на тестовых данных\n",
      "              precision    recall  f1-score   support\n",
      "\n",
      "           1       0.61      0.51      0.56      5022\n",
      "           2       0.57      0.43      0.49      4999\n",
      "           3       0.19      0.28      0.22      2302\n",
      "           4       0.22      0.23      0.22      2541\n",
      "           7       0.27      0.28      0.28      2635\n",
      "           8       0.27      0.30      0.28      2307\n",
      "           9       0.24      0.18      0.21      2850\n",
      "          10       0.21      0.31      0.25      2344\n",
      "\n",
      "    accuracy                           0.34     25000\n",
      "   macro avg       0.32      0.31      0.31     25000\n",
      "weighted avg       0.38      0.34      0.36     25000\n",
      "\n",
      "\n"
     ]
    }
   ],
   "source": [
    "for c in [0.01, 0.1, 0.5, 1]:\n",
    "    lr = LogisticRegression(random_state=10, solver = 'liblinear', C=c)\n",
    "    lr.fit(X, rating)\n",
    "    print(lr)\n",
    "    print('точность на тестовых данных :', accuracy_score(rating_test, lr.predict(X_test)))\n",
    "    print('отчет на тестовых данных')\n",
    "    print(classification_report(rating_test, lr.predict(X_test), \\\n",
    "          target_names = ['1', '2','3', '4', '7', '8', '9', '10']))\n",
    "    print()"
   ]
  },
  {
   "cell_type": "markdown",
   "metadata": {},
   "source": [
    "Наилучшее качество при С=0.5"
   ]
  },
  {
   "cell_type": "markdown",
   "metadata": {},
   "source": [
    "# Финальная модель"
   ]
  },
  {
   "cell_type": "code",
   "execution_count": 15,
   "metadata": {},
   "outputs": [
    {
     "name": "stdout",
     "output_type": "stream",
     "text": [
      "точность на тестовых данных : 0.35028\n",
      "отчет на тестовых данных\n",
      "              precision    recall  f1-score   support\n",
      "\n",
      "           1       0.59      0.52      0.56      5022\n",
      "           2       0.57      0.45      0.50      4999\n",
      "           3       0.19      0.28      0.23      2302\n",
      "           4       0.22      0.22      0.22      2541\n",
      "           7       0.29      0.28      0.28      2635\n",
      "           8       0.27      0.31      0.29      2307\n",
      "           9       0.25      0.17      0.20      2850\n",
      "          10       0.20      0.32      0.25      2344\n",
      "\n",
      "    accuracy                           0.35     25000\n",
      "   macro avg       0.32      0.32      0.32     25000\n",
      "weighted avg       0.38      0.35      0.36     25000\n",
      "\n"
     ]
    }
   ],
   "source": [
    "# финальная модель с оптимальными параметрами\n",
    "final_model =LogisticRegression(random_state=10, solver = 'liblinear', C=0.5)\n",
    "# обучим на всех данных\n",
    "final_model.fit(X, rating)\n",
    "print('точность на тестовых данных :', accuracy_score(rating_test, final_model.predict(X_test)))\n",
    "print('отчет на тестовых данных')\n",
    "print(classification_report(rating_test, final_model.predict(X_test), \\\n",
    "      target_names = ['1', '2','3', '4', '7', '8', '9', '10']))"
   ]
  },
  {
   "cell_type": "code",
   "execution_count": 16,
   "metadata": {},
   "outputs": [
    {
     "data": {
      "text/plain": [
       "['./saved_models/model_rating.joblib']"
      ]
     },
     "execution_count": 16,
     "metadata": {},
     "output_type": "execute_result"
    }
   ],
   "source": [
    "# сохранение моделей\n",
    "dump(tfidf_vectorizer2, './saved_models/vectorizer_rating.joblib')\n",
    "dump(final_model, './saved_models/model_rating.joblib')"
   ]
  },
  {
   "cell_type": "markdown",
   "metadata": {},
   "source": [
    "# Тестирование"
   ]
  },
  {
   "cell_type": "code",
   "execution_count": 3,
   "metadata": {},
   "outputs": [],
   "source": [
    "tfidf_vectorizer = load('./saved_models/vectorizer_rating.joblib')\n",
    "model_rating = load('./saved_models/model_rating.joblib')"
   ]
  },
  {
   "cell_type": "code",
   "execution_count": 6,
   "metadata": {},
   "outputs": [
    {
     "data": {
      "text/plain": [
       "'10'"
      ]
     },
     "execution_count": 6,
     "metadata": {},
     "output_type": "execute_result"
    }
   ],
   "source": [
    "test1 = ['The movie is awesome! Hooked, the second day I think about it. \\\n",
    "        Real life with its unexpected twists and turns. Excellent acting.\\\n",
    "        To say an interesting, intriguing story is to say nothing. \\\n",
    "        I havent seen such deep character development in a long time. \\\n",
    "        I highly recommend watching the movie!']\n",
    "test1 = tfidf_vectorizer.transform(test1)\n",
    "model_rating.predict(test1)[0]"
   ]
  },
  {
   "cell_type": "code",
   "execution_count": 7,
   "metadata": {},
   "outputs": [
    {
     "data": {
      "text/plain": [
       "'2'"
      ]
     },
     "execution_count": 7,
     "metadata": {},
     "output_type": "execute_result"
    }
   ],
   "source": [
    "test2= ['Its just a nightmare. The movie is so crazy! The main characters are incredibly vile. \\\n",
    "        The plot is terrible. I was disgusted to watch. Whats the point, whats the moral']\n",
    "test2 = tfidf_vectorizer.transform(test2)\n",
    "model_rating.predict(test2)[0]"
   ]
  },
  {
   "cell_type": "code",
   "execution_count": null,
   "metadata": {},
   "outputs": [],
   "source": []
  }
 ],
 "metadata": {
  "kernelspec": {
   "display_name": "Python 3",
   "language": "python",
   "name": "python3"
  },
  "language_info": {
   "codemirror_mode": {
    "name": "ipython",
    "version": 3
   },
   "file_extension": ".py",
   "mimetype": "text/x-python",
   "name": "python",
   "nbconvert_exporter": "python",
   "pygments_lexer": "ipython3",
   "version": "3.8.5"
  }
 },
 "nbformat": 4,
 "nbformat_minor": 4
}
