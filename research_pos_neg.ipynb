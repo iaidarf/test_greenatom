{
 "cells": [
  {
   "cell_type": "markdown",
   "metadata": {},
   "source": [
    "# Загрузка библиотек"
   ]
  },
  {
   "cell_type": "code",
   "execution_count": 1,
   "metadata": {},
   "outputs": [],
   "source": [
    "from sklearn.feature_extraction.text import CountVectorizer, TfidfVectorizer\n",
    "from sklearn.linear_model import LogisticRegression\n",
    "from sklearn.svm import LinearSVC\n",
    "import re\n",
    "from sklearn.metrics import accuracy_score\n",
    "from sklearn.model_selection import train_test_split\n",
    "from joblib import dump, load"
   ]
  },
  {
   "cell_type": "markdown",
   "metadata": {},
   "source": [
    "# Загрузка данных"
   ]
  },
  {
   "cell_type": "code",
   "execution_count": 2,
   "metadata": {},
   "outputs": [],
   "source": [
    "reviews_train = []\n",
    "for line in open('data//train_data.txt', 'r'):\n",
    "    reviews_train.append(line.strip())\n",
    "    \n",
    "reviews_test = []\n",
    "for line in open('data//test_data.txt', 'r'):\n",
    "    reviews_test.append(line.strip())"
   ]
  },
  {
   "cell_type": "code",
   "execution_count": 3,
   "metadata": {},
   "outputs": [],
   "source": [
    "# сразу сделаем предварительную очистку данных: избавимся от знаков и сделаем все буквы строчными\n",
    "\n",
    "REPLACE_NO_SPACE = re.compile(\"[.;:!\\'?,\\\"()\\[\\]]\")\n",
    "REPLACE_WITH_SPACE = re.compile(\"(<br\\s*/><br\\s*/>)|(\\-)|(\\/)\")\n",
    "\n",
    "def preprocess_reviews(reviews):\n",
    "    reviews = [REPLACE_NO_SPACE.sub(\"\", line.lower()) for line in reviews]\n",
    "    reviews = [REPLACE_WITH_SPACE.sub(\" \", line) for line in reviews]\n",
    "    \n",
    "    return reviews\n",
    "\n",
    "reviews_train_clean = preprocess_reviews(reviews_train)\n",
    "reviews_test_clean = preprocess_reviews(reviews_test)"
   ]
  },
  {
   "cell_type": "markdown",
   "metadata": {},
   "source": [
    "# Целевые признаки"
   ]
  },
  {
   "cell_type": "code",
   "execution_count": 4,
   "metadata": {},
   "outputs": [],
   "source": [
    "# Статус комменатрия: положительный/отрицательный\n",
    "target = [1 if i < 12500 else 0 for i in range(25000)]"
   ]
  },
  {
   "cell_type": "markdown",
   "metadata": {},
   "source": [
    "# Подготовка"
   ]
  },
  {
   "cell_type": "markdown",
   "metadata": {},
   "source": [
    "Функция для обучения модели и вывода метрик"
   ]
  },
  {
   "cell_type": "code",
   "execution_count": 5,
   "metadata": {},
   "outputs": [],
   "source": [
    "def model_fit_score(model):\n",
    "    print(model)\n",
    "    # обучение\n",
    "    model.fit(X_train, y_train)\n",
    "    print('точность на валидационных данных: ', accuracy_score(y_val, model.predict(X_val)))\n",
    "    # обучим на всех данных\n",
    "    model.fit(X, target)\n",
    "    print('точность на тестовых данных :', accuracy_score(target, model.predict(X_test)))"
   ]
  },
  {
   "cell_type": "markdown",
   "metadata": {},
   "source": [
    "Будем тестировать две модели:\n",
    "- логистическую регрессию\n",
    "- метод опорных векторов \n",
    "\n",
    "Обе эти модели хорошо работют с разреженными данными."
   ]
  },
  {
   "cell_type": "code",
   "execution_count": 6,
   "metadata": {},
   "outputs": [],
   "source": [
    "lr = LogisticRegression(random_state=10)\n",
    "svc = LinearSVC()"
   ]
  },
  {
   "cell_type": "markdown",
   "metadata": {},
   "source": [
    "# Поиск решения"
   ]
  },
  {
   "cell_type": "markdown",
   "metadata": {},
   "source": [
    "## N-граммы"
   ]
  },
  {
   "cell_type": "markdown",
   "metadata": {},
   "source": [
    "Попробуем вместо отдельных слов использовать n-граммы. А также исключим стоп-слова."
   ]
  },
  {
   "cell_type": "code",
   "execution_count": 7,
   "metadata": {},
   "outputs": [],
   "source": [
    "# вариант с ngram_range=(1, 2)\n",
    "cv1 = CountVectorizer(binary=True, ngram_range=(1, 2), stop_words='english')\n",
    "# обучаем на трейн-данных\n",
    "cv1.fit(reviews_train_clean)\n",
    "# векторизуем трейн и тест данные\n",
    "X = cv1.transform(reviews_train_clean)\n",
    "X_test = cv1.transform(reviews_test_clean)\n",
    "# Разделение на трейн и валидацию\n",
    "X_train, X_val, y_train, y_val = train_test_split(X, target, train_size = 0.8, random_state=10)"
   ]
  },
  {
   "cell_type": "code",
   "execution_count": 8,
   "metadata": {},
   "outputs": [
    {
     "name": "stdout",
     "output_type": "stream",
     "text": [
      "LogisticRegression(random_state=10)\n",
      "точность на валидационных данных:  0.8908\n",
      "точность на тестовых данных : 0.8854\n"
     ]
    }
   ],
   "source": [
    "model_fit_score(lr)"
   ]
  },
  {
   "cell_type": "code",
   "execution_count": 9,
   "metadata": {},
   "outputs": [
    {
     "name": "stdout",
     "output_type": "stream",
     "text": [
      "LinearSVC()\n",
      "точность на валидационных данных:  0.884\n",
      "точность на тестовых данных : 0.87988\n"
     ]
    },
    {
     "name": "stderr",
     "output_type": "stream",
     "text": [
      "C:\\Users\\i_a_f\\anaconda3\\lib\\site-packages\\sklearn\\svm\\_base.py:976: ConvergenceWarning: Liblinear failed to converge, increase the number of iterations.\n",
      "  warnings.warn(\"Liblinear failed to converge, increase \"\n"
     ]
    }
   ],
   "source": [
    "model_fit_score(svc)"
   ]
  },
  {
   "cell_type": "code",
   "execution_count": 10,
   "metadata": {},
   "outputs": [],
   "source": [
    "# вариант с ngram_range=(1, 3)\n",
    "cv2 = CountVectorizer(binary=True, ngram_range=(1, 3), stop_words='english')\n",
    "# обучаем на трейн-данных\n",
    "cv2.fit(reviews_train_clean)\n",
    "# векторизуем трейн и тест данные\n",
    "X = cv2.transform(reviews_train_clean)\n",
    "X_test = cv2.transform(reviews_test_clean)\n",
    "# Разделение на трейн и валидацию\n",
    "X_train, X_val, y_train, y_val = train_test_split(X, target, train_size = 0.8, random_state=10)"
   ]
  },
  {
   "cell_type": "code",
   "execution_count": 11,
   "metadata": {},
   "outputs": [
    {
     "name": "stdout",
     "output_type": "stream",
     "text": [
      "LogisticRegression(random_state=10)\n",
      "точность на валидационных данных:  0.884\n",
      "точность на тестовых данных : 0.8838\n"
     ]
    }
   ],
   "source": [
    "model_fit_score(lr)"
   ]
  },
  {
   "cell_type": "code",
   "execution_count": 12,
   "metadata": {},
   "outputs": [
    {
     "name": "stdout",
     "output_type": "stream",
     "text": [
      "LinearSVC()\n"
     ]
    },
    {
     "name": "stderr",
     "output_type": "stream",
     "text": [
      "C:\\Users\\i_a_f\\anaconda3\\lib\\site-packages\\sklearn\\svm\\_base.py:976: ConvergenceWarning: Liblinear failed to converge, increase the number of iterations.\n",
      "  warnings.warn(\"Liblinear failed to converge, increase \"\n"
     ]
    },
    {
     "name": "stdout",
     "output_type": "stream",
     "text": [
      "точность на валидационных данных:  0.8874\n",
      "точность на тестовых данных : 0.8834\n"
     ]
    }
   ],
   "source": [
    "model_fit_score(svc)"
   ]
  },
  {
   "cell_type": "markdown",
   "metadata": {},
   "source": [
    "# TF-IDF "
   ]
  },
  {
   "cell_type": "markdown",
   "metadata": {},
   "source": [
    "Попробуем использовать TF-IDF статистику вместо слов/n-грамм."
   ]
  },
  {
   "cell_type": "code",
   "execution_count": 7,
   "metadata": {},
   "outputs": [],
   "source": [
    "tfidf_vectorizer1 = TfidfVectorizer()\n",
    "# обучаем на трейн-данных\n",
    "tfidf_vectorizer1.fit(reviews_train_clean)\n",
    "# векторизуем трейн и тест данные\n",
    "X = tfidf_vectorizer1.transform(reviews_train_clean)\n",
    "X_test = tfidf_vectorizer1.transform(reviews_test_clean)\n",
    "# Разделение на трейн и валидацию\n",
    "X_train, X_val, y_train, y_val = train_test_split(X, target, train_size = 0.8, random_state=10)"
   ]
  },
  {
   "cell_type": "code",
   "execution_count": 8,
   "metadata": {},
   "outputs": [
    {
     "name": "stdout",
     "output_type": "stream",
     "text": [
      "LogisticRegression(random_state=10)\n",
      "точность на валидационных данных:  0.8874\n",
      "точность на тестовых данных : 0.8824\n"
     ]
    }
   ],
   "source": [
    "model_fit_score(lr)"
   ]
  },
  {
   "cell_type": "code",
   "execution_count": 15,
   "metadata": {},
   "outputs": [
    {
     "name": "stdout",
     "output_type": "stream",
     "text": [
      "LinearSVC()\n",
      "точность на валидационных данных:  0.897\n",
      "точность на тестовых данных : 0.8794\n"
     ]
    }
   ],
   "source": [
    "model_fit_score(svc)"
   ]
  },
  {
   "cell_type": "code",
   "execution_count": 16,
   "metadata": {},
   "outputs": [],
   "source": [
    "# вариант с удалением стоп-слов\n",
    "tfidf_vectorizer2 = TfidfVectorizer(stop_words='english')\n",
    "# обучаем на трейн-данных\n",
    "tfidf_vectorizer2.fit(reviews_train_clean)\n",
    "# векторизуем трейн и тест данные\n",
    "X = tfidf_vectorizer2.transform(reviews_train_clean)\n",
    "X_test = tfidf_vectorizer2.transform(reviews_test_clean)\n",
    "X_train, X_val, y_train, y_val = train_test_split(X, target, train_size = 0.8, random_state=10)"
   ]
  },
  {
   "cell_type": "code",
   "execution_count": 17,
   "metadata": {},
   "outputs": [
    {
     "name": "stdout",
     "output_type": "stream",
     "text": [
      "LogisticRegression(random_state=10)\n",
      "точность на валидационных данных:  0.8912\n",
      "точность на тестовых данных : 0.87924\n"
     ]
    }
   ],
   "source": [
    "model_fit_score(lr)"
   ]
  },
  {
   "cell_type": "code",
   "execution_count": 18,
   "metadata": {},
   "outputs": [
    {
     "name": "stdout",
     "output_type": "stream",
     "text": [
      "LinearSVC()\n",
      "точность на валидационных данных:  0.8902\n",
      "точность на тестовых данных : 0.86704\n"
     ]
    }
   ],
   "source": [
    "model_fit_score(svc)"
   ]
  },
  {
   "cell_type": "markdown",
   "metadata": {},
   "source": [
    "# Подбор гиперпараметров"
   ]
  },
  {
   "cell_type": "markdown",
   "metadata": {},
   "source": [
    "Наилучший результат на тестовых данных показала модель логистической регрессии на n-граммах (1,2). С TF-IDF результат чуть похуже, но в качестве финальной модели выберу все-таки его, так как дамп этой модели получается гораздо более \"легким\" и работает гораздо шустрее. Попробуем подобрать к нему оптимальные гиперпараметры."
   ]
  },
  {
   "cell_type": "code",
   "execution_count": 10,
   "metadata": {},
   "outputs": [],
   "source": [
    "# заново подготовим данные  - векторизуем трейн и тест данные\n",
    "X = tfidf_vectorizer1.transform(reviews_train_clean)\n",
    "X_test = tfidf_vectorizer1.transform(reviews_test_clean)\n",
    "# Разделение на трейн и валидацию\n",
    "X_train, X_val, y_train, y_val = train_test_split(X, target, train_size = 0.8, random_state=10)"
   ]
  },
  {
   "cell_type": "code",
   "execution_count": 11,
   "metadata": {},
   "outputs": [
    {
     "name": "stdout",
     "output_type": "stream",
     "text": [
      "LogisticRegression(C=0.01, random_state=10)\n",
      "точность на валидационных данных:  0.7968\n",
      "точность на тестовых данных : 0.79612\n",
      "\n",
      "LogisticRegression(C=0.1, random_state=10)\n",
      "точность на валидационных данных:  0.8544\n",
      "точность на тестовых данных : 0.85048\n",
      "\n",
      "LogisticRegression(C=0.5, random_state=10)\n",
      "точность на валидационных данных:  0.8818\n",
      "точность на тестовых данных : 0.87844\n",
      "\n",
      "LogisticRegression(C=1, random_state=10)\n",
      "точность на валидационных данных:  0.8874\n",
      "точность на тестовых данных : 0.8824\n",
      "\n"
     ]
    }
   ],
   "source": [
    "for c in [0.01, 0.1, 0.5, 1]:\n",
    "    model_fit_score(LogisticRegression(random_state=10, C=c))\n",
    "    print()"
   ]
  },
  {
   "cell_type": "markdown",
   "metadata": {},
   "source": [
    "Наилучшее качество при С=1"
   ]
  },
  {
   "cell_type": "markdown",
   "metadata": {},
   "source": [
    "# Финальная модель"
   ]
  },
  {
   "cell_type": "code",
   "execution_count": 13,
   "metadata": {},
   "outputs": [
    {
     "name": "stdout",
     "output_type": "stream",
     "text": [
      "точность на тестовых данных : 0.8824\n"
     ]
    }
   ],
   "source": [
    "# финальная модель с оптимальными параметрами\n",
    "final_model = LogisticRegression(C=1, random_state=10)\n",
    "# обучим на всех данных\n",
    "final_model.fit(X, target)\n",
    "print('точность на тестовых данных :', accuracy_score(target, final_model.predict(X_test)))"
   ]
  },
  {
   "cell_type": "code",
   "execution_count": 15,
   "metadata": {},
   "outputs": [
    {
     "data": {
      "text/plain": [
       "['./saved_models/model_pos_neg.joblib']"
      ]
     },
     "execution_count": 15,
     "metadata": {},
     "output_type": "execute_result"
    }
   ],
   "source": [
    "# сохранение моделей\n",
    "dump(tfidf_vectorizer1, './saved_models/vectorizer_pos_neg.joblib')\n",
    "dump(final_model, './saved_models/model_pos_neg.joblib')"
   ]
  },
  {
   "cell_type": "markdown",
   "metadata": {},
   "source": [
    "# Тестирование"
   ]
  },
  {
   "cell_type": "code",
   "execution_count": 2,
   "metadata": {},
   "outputs": [],
   "source": [
    "vectorizer = load('./saved_models/vectorizer_pos_neg.joblib')\n",
    "model_pos_neg = load('./saved_models/model_pos_neg.joblib')"
   ]
  },
  {
   "cell_type": "code",
   "execution_count": 19,
   "metadata": {},
   "outputs": [
    {
     "data": {
      "text/plain": [
       "'POSITIVE'"
      ]
     },
     "execution_count": 19,
     "metadata": {},
     "output_type": "execute_result"
    }
   ],
   "source": [
    "test1 = ['The movie is awesome! Hooked, the second day I think about it. \\\n",
    "        Real life with its unexpected twists and turns. Excellent acting.\\\n",
    "        To say an interesting, intriguing story is to say nothing. \\\n",
    "        I havent seen such deep character development in a long time. \\\n",
    "        I highly recommend watching the movie!']\n",
    "test1 = vectorizer.transform(test1)\n",
    "'POSITIVE' if (model_pos_neg.predict(test1)[0] == 1) else 'NEGATIVE'"
   ]
  },
  {
   "cell_type": "code",
   "execution_count": 20,
   "metadata": {},
   "outputs": [
    {
     "data": {
      "text/plain": [
       "'NEGATIVE'"
      ]
     },
     "execution_count": 20,
     "metadata": {},
     "output_type": "execute_result"
    }
   ],
   "source": [
    "test2= ['Its just a nightmare. The movie is so crazy! The main characters are incredibly vile. \\\n",
    "        The plot is terrible. I was disgusted to watch. Whats the point, whats the moral']\n",
    "test2 = vectorizer.transform(test2)\n",
    "'POSITIVE' if (model_pos_neg.predict(test2)[0] == 1) else 'NEGATIVE'"
   ]
  },
  {
   "cell_type": "code",
   "execution_count": 21,
   "metadata": {},
   "outputs": [
    {
     "data": {
      "text/plain": [
       "'POSITIVE'"
      ]
     },
     "execution_count": 21,
     "metadata": {},
     "output_type": "execute_result"
    }
   ],
   "source": [
    "test3= ['The best!']\n",
    "test3 = vectorizer.transform(test3)\n",
    "'POSITIVE' if (model_pos_neg.predict(test3)[0] == 1) else 'NEGATIVE'"
   ]
  },
  {
   "cell_type": "code",
   "execution_count": null,
   "metadata": {},
   "outputs": [],
   "source": []
  }
 ],
 "metadata": {
  "kernelspec": {
   "display_name": "Python 3",
   "language": "python",
   "name": "python3"
  },
  "language_info": {
   "codemirror_mode": {
    "name": "ipython",
    "version": 3
   },
   "file_extension": ".py",
   "mimetype": "text/x-python",
   "name": "python",
   "nbconvert_exporter": "python",
   "pygments_lexer": "ipython3",
   "version": "3.8.5"
  }
 },
 "nbformat": 4,
 "nbformat_minor": 4
}
