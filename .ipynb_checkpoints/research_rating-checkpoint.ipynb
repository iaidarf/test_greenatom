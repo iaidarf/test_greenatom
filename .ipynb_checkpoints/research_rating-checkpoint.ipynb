{
 "cells": [
  {
   "cell_type": "markdown",
   "metadata": {},
   "source": [
    "# Загрузка библиотек"
   ]
  },
  {
   "cell_type": "code",
   "execution_count": 88,
   "metadata": {},
   "outputs": [],
   "source": [
    "from sklearn.feature_extraction.text import CountVectorizer\n",
    "from sklearn.linear_model import LogisticRegression\n",
    "from sklearn.svm import LinearSVC\n",
    "from sklearn.metrics import accuracy_score\n",
    "from sklearn.model_selection import train_test_split\n",
    "from sklearn.feature_extraction.text import TfidfVectorizer"
   ]
  },
  {
   "cell_type": "markdown",
   "metadata": {},
   "source": [
    "# Загрузка данных"
   ]
  },
  {
   "cell_type": "code",
   "execution_count": 89,
   "metadata": {},
   "outputs": [],
   "source": [
    "reviews_train = []\n",
    "for line in open('train_data.txt', 'r'):\n",
    "    reviews_train.append(line.strip())\n",
    "    \n",
    "reviews_test = []\n",
    "for line in open('test_data.txt', 'r'):\n",
    "    reviews_test.append(line.strip())"
   ]
  },
  {
   "cell_type": "code",
   "execution_count": 90,
   "metadata": {},
   "outputs": [],
   "source": [
    "# сразу сделаем предварительную очистку данных: избавимся от знаков и сделаем все буквы строчными\n",
    "\n",
    "REPLACE_NO_SPACE = re.compile(\"[.;:!\\'?,\\\"()\\[\\]]\")\n",
    "REPLACE_WITH_SPACE = re.compile(\"(<br\\s*/><br\\s*/>)|(\\-)|(\\/)\")\n",
    "\n",
    "def preprocess_reviews(reviews):\n",
    "    reviews = [REPLACE_NO_SPACE.sub(\"\", line.lower()) for line in reviews]\n",
    "    reviews = [REPLACE_WITH_SPACE.sub(\" \", line) for line in reviews]\n",
    "    \n",
    "    return reviews\n",
    "\n",
    "reviews_train_clean = preprocess_reviews(reviews_train)\n",
    "reviews_test_clean = preprocess_reviews(reviews_test)"
   ]
  },
  {
   "cell_type": "markdown",
   "metadata": {},
   "source": [
    "# Целевые признаки"
   ]
  },
  {
   "cell_type": "code",
   "execution_count": 91,
   "metadata": {},
   "outputs": [],
   "source": [
    "# Статус комменатрия: положительный/отрицательный\n",
    "target = [1 if i < 12500 else 0 for i in range(25000)]"
   ]
  },
  {
   "cell_type": "code",
   "execution_count": 16,
   "metadata": {},
   "outputs": [],
   "source": [
    "# Рейтинги\n",
    "rating = []\n",
    "for line in open('rating_train.txt', 'r'):\n",
    "    rating.append(line.strip())\n",
    "    \n",
    "rating_test = []\n",
    "for line in open('rating_test.txt', 'r'):\n",
    "    rating_test.append(line.strip())"
   ]
  },
  {
   "cell_type": "markdown",
   "metadata": {},
   "source": [
    "# Подготовка"
   ]
  },
  {
   "cell_type": "markdown",
   "metadata": {},
   "source": [
    "Функция для обучения модели и вывода метрик"
   ]
  },
  {
   "cell_type": "code",
   "execution_count": 54,
   "metadata": {},
   "outputs": [],
   "source": [
    "def model_fit_score(model):\n",
    "    print(model)\n",
    "    # обучение\n",
    "    model.fit(X_train, y_train)\n",
    "    print('точность на валидационных данных: ', accuracy_score(y_val, model.predict(X_val)))\n",
    "    # обучим на всех данных\n",
    "    model.fit(X, target)\n",
    "    print('точность на тестовых данных :', accuracy_score(target, model.predict(X_test)))"
   ]
  },
  {
   "cell_type": "markdown",
   "metadata": {},
   "source": [
    "Будем тестировать две модели:\n",
    "- логистическую регрессию\n",
    "- метод опорных векторов \n",
    "\n",
    "Обе эти модели хорошо работют с разрежеенными данными."
   ]
  },
  {
   "cell_type": "code",
   "execution_count": 70,
   "metadata": {},
   "outputs": [],
   "source": [
    "lr = LogisticRegression(solver = 'liblinear', random_state=10)\n",
    "svc = LinearSVC()"
   ]
  },
  {
   "cell_type": "markdown",
   "metadata": {},
   "source": [
    "# Поиск решения"
   ]
  },
  {
   "cell_type": "markdown",
   "metadata": {},
   "source": [
    "## N-граммы"
   ]
  },
  {
   "cell_type": "markdown",
   "metadata": {},
   "source": [
    "Попробуем вместо отдельных слов использовать n-граммы. А также исключим стоп-слова."
   ]
  },
  {
   "cell_type": "code",
   "execution_count": 52,
   "metadata": {},
   "outputs": [],
   "source": [
    "# вариант с ngram_range=(1, 2)\n",
    "cv1 = CountVectorizer(binary=True, ngram_range=(1, 2), stop_words='english')\n",
    "# обучаем на трейн-данных\n",
    "cv1.fit(reviews_train_clean)\n",
    "# векторизуем трейн и тест данные\n",
    "X = cv1.transform(reviews_train_clean)\n",
    "X_test = cv1.transform(reviews_test_clean)\n",
    "# Разделение на трейн и валидацию\n",
    "X_train, X_val, y_train, y_val = train_test_split(X, target, train_size = 0.75, random_state=10)"
   ]
  },
  {
   "cell_type": "code",
   "execution_count": 67,
   "metadata": {},
   "outputs": [
    {
     "name": "stdout",
     "output_type": "stream",
     "text": [
      "LogisticRegression(random_state=10, solver='liblinear')\n",
      "точность на валидационных данных:  0.89008\n",
      "точность на тестовых данных : 0.87928\n"
     ]
    }
   ],
   "source": [
    "model_fit_score(lr)"
   ]
  },
  {
   "cell_type": "code",
   "execution_count": 68,
   "metadata": {},
   "outputs": [
    {
     "name": "stdout",
     "output_type": "stream",
     "text": [
      "LinearSVC()\n",
      "точность на валидационных данных:  0.89696\n",
      "точность на тестовых данных : 0.86704\n"
     ]
    }
   ],
   "source": [
    "model_fit_score(svm)"
   ]
  },
  {
   "cell_type": "code",
   "execution_count": 71,
   "metadata": {},
   "outputs": [],
   "source": [
    "# вариант с ngram_range=(1, 3)\n",
    "cv2 = CountVectorizer(binary=True, ngram_range=(1, 3), stop_words='english')\n",
    "# обучаем на трейн-данных\n",
    "cv2.fit(reviews_train_clean)\n",
    "# векторизуем трейн и тест данные\n",
    "X = cv2.transform(reviews_train_clean)\n",
    "X_test = cv2.transform(reviews_test_clean)\n",
    "# Разделение на трейн и валидацию\n",
    "X_train, X_val, y_train, y_val = train_test_split(X, target, train_size = 0.75, random_state=10)"
   ]
  },
  {
   "cell_type": "code",
   "execution_count": 72,
   "metadata": {},
   "outputs": [
    {
     "name": "stdout",
     "output_type": "stream",
     "text": [
      "LogisticRegression(random_state=10, solver='liblinear')\n",
      "точность на валидационных данных:  0.88656\n",
      "точность на тестовых данных : 0.88372\n"
     ]
    }
   ],
   "source": [
    "model_fit_score(lr)"
   ]
  },
  {
   "cell_type": "code",
   "execution_count": 73,
   "metadata": {},
   "outputs": [
    {
     "name": "stdout",
     "output_type": "stream",
     "text": [
      "LinearSVC()\n"
     ]
    },
    {
     "name": "stderr",
     "output_type": "stream",
     "text": [
      "C:\\Users\\i_a_f\\anaconda3\\lib\\site-packages\\sklearn\\svm\\_base.py:976: ConvergenceWarning: Liblinear failed to converge, increase the number of iterations.\n",
      "  warnings.warn(\"Liblinear failed to converge, increase \"\n"
     ]
    },
    {
     "name": "stdout",
     "output_type": "stream",
     "text": [
      "точность на валидационных данных:  0.88592\n",
      "точность на тестовых данных : 0.8834\n"
     ]
    }
   ],
   "source": [
    "model_fit_score(svc)"
   ]
  },
  {
   "cell_type": "markdown",
   "metadata": {},
   "source": [
    "# TF-IDF "
   ]
  },
  {
   "cell_type": "markdown",
   "metadata": {},
   "source": [
    "Попробуем использовать TF-IDF статистику вместо слов/n-грамм."
   ]
  },
  {
   "cell_type": "code",
   "execution_count": 74,
   "metadata": {},
   "outputs": [],
   "source": [
    "tfidf_vectorizer1 = TfidfVectorizer()\n",
    "# обучаем на трейн-данных\n",
    "tfidf_vectorizer1.fit(reviews_train_clean)\n",
    "# векторизуем трейн и тест данные\n",
    "X = tfidf_vectorizer1.transform(reviews_train_clean)\n",
    "X_test = tfidf_vectorizer1.transform(reviews_test_clean)\n",
    "# Разделение на трейн и валидацию\n",
    "X_train, X_val, y_train, y_val = train_test_split(X, target, train_size = 0.75, random_state=10)"
   ]
  },
  {
   "cell_type": "code",
   "execution_count": 75,
   "metadata": {},
   "outputs": [
    {
     "name": "stdout",
     "output_type": "stream",
     "text": [
      "LogisticRegression(random_state=10, solver='liblinear')\n",
      "точность на валидационных данных:  0.89008\n",
      "точность на тестовых данных : 0.8824\n"
     ]
    }
   ],
   "source": [
    "model_fit_score(lr)"
   ]
  },
  {
   "cell_type": "code",
   "execution_count": 76,
   "metadata": {},
   "outputs": [
    {
     "name": "stdout",
     "output_type": "stream",
     "text": [
      "LinearSVC()\n",
      "точность на валидационных данных:  0.89696\n",
      "точность на тестовых данных : 0.8794\n"
     ]
    }
   ],
   "source": [
    "model_fit_score(svc)"
   ]
  },
  {
   "cell_type": "code",
   "execution_count": 77,
   "metadata": {},
   "outputs": [],
   "source": [
    "# вариант с удалением стоп-слов\n",
    "tfidf_vectorizer2 = TfidfVectorizer(stop_words='english')\n",
    "# обучаем на трейн-данных\n",
    "tfidf_vectorizer2.fit(reviews_train_clean)\n",
    "# векторизуем трейн и тест данные\n",
    "X = tfidf_vectorizer2.transform(reviews_train_clean)\n",
    "X_test = tfidf_vectorizer2.transform(reviews_test_clean)\n",
    "X_train, X_val, y_train, y_val = train_test_split(X, target, train_size = 0.75, random_state=10)"
   ]
  },
  {
   "cell_type": "code",
   "execution_count": 78,
   "metadata": {},
   "outputs": [
    {
     "name": "stdout",
     "output_type": "stream",
     "text": [
      "LogisticRegression(random_state=10, solver='liblinear')\n",
      "точность на валидационных данных:  0.8912\n",
      "точность на тестовых данных : 0.87928\n"
     ]
    }
   ],
   "source": [
    "model_fit_score(lr)"
   ]
  },
  {
   "cell_type": "code",
   "execution_count": 79,
   "metadata": {},
   "outputs": [
    {
     "name": "stdout",
     "output_type": "stream",
     "text": [
      "LinearSVC()\n",
      "точность на валидационных данных:  0.89056\n",
      "точность на тестовых данных : 0.86704\n"
     ]
    }
   ],
   "source": [
    "model_fit_score(svc)"
   ]
  },
  {
   "cell_type": "code",
   "execution_count": null,
   "metadata": {},
   "outputs": [],
   "source": []
  },
  {
   "cell_type": "markdown",
   "metadata": {},
   "source": [
    "Наилучший результат на тестовых данных показала модель логистической регрессии на n-граммах (1,3). Попробуем подобрать к нему оптимальные гиперпараметры."
   ]
  },
  {
   "cell_type": "code",
   "execution_count": 83,
   "metadata": {},
   "outputs": [],
   "source": [
    "# вариант с ngram_range=(1, 3)\n",
    "cv2 = CountVectorizer(binary=True, ngram_range=(1, 3), stop_words='english')\n",
    "# обучаем на трейн-данных\n",
    "cv2.fit(reviews_train_clean)\n",
    "# векторизуем трейн и тест данные\n",
    "X = cv2.transform(reviews_train_clean)\n",
    "X_test = cv2.transform(reviews_test_clean)\n",
    "# Разделение на трейн и валидацию\n",
    "X_train, X_val, y_train, y_val = train_test_split(X, target, train_size = 0.75, random_state=10)"
   ]
  },
  {
   "cell_type": "code",
   "execution_count": 84,
   "metadata": {},
   "outputs": [
    {
     "name": "stdout",
     "output_type": "stream",
     "text": [
      "0.01\n",
      "LogisticRegression(C=0.01, random_state=10, solver='liblinear')\n",
      "точность на валидационных данных:  0.87536\n",
      "точность на тестовых данных : 0.87404\n",
      "0.05\n",
      "LogisticRegression(C=0.05, random_state=10, solver='liblinear')\n",
      "точность на валидационных данных:  0.88416\n",
      "точность на тестовых данных : 0.88112\n",
      "0.1\n",
      "LogisticRegression(C=0.1, random_state=10, solver='liblinear')\n",
      "точность на валидационных данных:  0.88496\n",
      "точность на тестовых данных : 0.88264\n",
      "0.25\n",
      "LogisticRegression(C=0.25, random_state=10, solver='liblinear')\n",
      "точность на валидационных данных:  0.88656\n",
      "точность на тестовых данных : 0.88348\n",
      "0.5\n",
      "LogisticRegression(C=0.5, random_state=10, solver='liblinear')\n",
      "точность на валидационных данных:  0.88576\n",
      "точность на тестовых данных : 0.88376\n",
      "1\n",
      "LogisticRegression(C=1, random_state=10, solver='liblinear')\n",
      "точность на валидационных данных:  0.88656\n",
      "точность на тестовых данных : 0.88372\n"
     ]
    }
   ],
   "source": [
    "for c in [0.01, 0.05, 0.1, 0.25, 0.5, 1]:\n",
    "    model_fit_score(LogisticRegression(solver = 'liblinear', random_state=10, C=c))\n",
    "    print()"
   ]
  },
  {
   "cell_type": "markdown",
   "metadata": {},
   "source": [
    "Наилучшее качество при С=0.5"
   ]
  },
  {
   "cell_type": "markdown",
   "metadata": {},
   "source": [
    "# Финальная модель"
   ]
  },
  {
   "cell_type": "code",
   "execution_count": 86,
   "metadata": {},
   "outputs": [
    {
     "name": "stdout",
     "output_type": "stream",
     "text": [
      "точность на валидационных данных:  0.88576\n",
      "точность на тестовых данных : 0.88376\n"
     ]
    }
   ],
   "source": [
    "final_model = LogisticRegression(C=0.5, random_state=10, solver='liblinear')\n",
    "final_model.fit(X_train, y_train)\n",
    "print('точность на валидационных данных: ', accuracy_score(y_val, final_model.predict(X_val)))\n",
    "# обучим на всех данных\n",
    "final_model.fit(X, target)\n",
    "print('точность на тестовых данных :', accuracy_score(target, final_model.predict(X_test)))"
   ]
  },
  {
   "cell_type": "code",
   "execution_count": 87,
   "metadata": {},
   "outputs": [
    {
     "name": "stdout",
     "output_type": "stream",
     "text": [
      "точность на валидационных данных:  0.88608\n",
      "точность на тестовых данных : 0.88364\n"
     ]
    }
   ],
   "source": [
    "final_model = LogisticRegression(C=0.5, random_state=10)\n",
    "final_model.fit(X_train, y_train)\n",
    "print('точность на валидационных данных: ', accuracy_score(y_val, final_model.predict(X_val)))\n",
    "# обучим на всех данных\n",
    "final_model.fit(X, target)\n",
    "print('точность на тестовых данных :', accuracy_score(target, final_model.predict(X_test)))"
   ]
  },
  {
   "cell_type": "code",
   "execution_count": null,
   "metadata": {},
   "outputs": [],
   "source": []
  }
 ],
 "metadata": {
  "kernelspec": {
   "display_name": "Python 3",
   "language": "python",
   "name": "python3"
  },
  "language_info": {
   "codemirror_mode": {
    "name": "ipython",
    "version": 3
   },
   "file_extension": ".py",
   "mimetype": "text/x-python",
   "name": "python",
   "nbconvert_exporter": "python",
   "pygments_lexer": "ipython3",
   "version": "3.8.5"
  }
 },
 "nbformat": 4,
 "nbformat_minor": 4
}
